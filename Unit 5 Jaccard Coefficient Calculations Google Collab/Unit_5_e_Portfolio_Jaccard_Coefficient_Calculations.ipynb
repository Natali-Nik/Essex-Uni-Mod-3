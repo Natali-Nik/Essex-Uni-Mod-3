{
  "nbformat": 4,
  "nbformat_minor": 0,
  "metadata": {
    "colab": {
      "provenance": []
    },
    "kernelspec": {
      "name": "python3",
      "display_name": "Python 3"
    },
    "language_info": {
      "name": "python"
    }
  },
  "cells": [
    {
      "cell_type": "code",
      "execution_count": null,
      "metadata": {
        "colab": {
          "base_uri": "https://localhost:8080/"
        },
        "id": "rpsPWh237cY8",
        "outputId": "7d00ff09-d8b6-48f3-c652-d52cf38d038b"
      },
      "outputs": [
        {
          "output_type": "stream",
          "name": "stdout",
          "text": [
            "Jaccard Coefficient (Jack, Mary): 1.0\n",
            "Jaccard Coefficient (Jack, Jim): 0.5\n",
            "Jaccard Coefficient (Jim, Mary): 0.5\n"
          ]
        }
      ],
      "source": [
        "#Attempt Jaccard Coefficient Task\n",
        "\n",
        "# Data for the individuals\n",
        "data = {\n",
        "    \"Jack\": {\"Test-1\": \"P\", \"Test-2\": \"N\", \"Test-3\": \"N\", \"Test-4\": \"A\"},\n",
        "    \"Mary\": {\"Test-1\": \"P\", \"Test-2\": \"A\", \"Test-3\": \"P\", \"Test-4\": \"N\"},\n",
        "    \"Jim\": {\"Test-1\": \"N\", \"Test-2\": \"N\", \"Test-3\": \"N\", \"Test-4\": \"A\"}\n",
        "}\n",
        "\n",
        "def extract_test_results(person):\n",
        "    \"\"\"\n",
        "    'P' (Positive) and 'A' (Abnormal) are considered.\n",
        "    \"\"\"\n",
        "    return {result for result in person.values() if result in {\"P\", \"A\"}}\n",
        "\n",
        "def jaccard_coefficient(set1, set2):\n",
        "    \"\"\"\n",
        "    Calculate the Jaccard Coefficient between two sets.\n",
        "\n",
        "    Args:\n",
        "        set1 (set): First set of elements.\n",
        "        set2 (set): Second set of elements.\n",
        "\n",
        "    Returns:\n",
        "        float: Jaccard Coefficient.\n",
        "    \"\"\"\n",
        "    intersection = len(set1.intersection(set2))\n",
        "    union = len(set1.union(set2))\n",
        "    return intersection / union if union != 0 else 0.0\n",
        "\n",
        "# Extract test results for individuals\n",
        "jack_results = extract_test_results(data[\"Jack\"])\n",
        "mary_results = extract_test_results(data[\"Mary\"])\n",
        "jim_results = extract_test_results(data[\"Jim\"])\n",
        "\n",
        "# Calculate Jaccard coefficients for the pairs\n",
        "jack_mary = jaccard_coefficient(jack_results, mary_results)\n",
        "jack_jim = jaccard_coefficient(jack_results, jim_results)\n",
        "jim_mary = jaccard_coefficient(jim_results, mary_results)\n",
        "\n",
        "# Print results\n",
        "print(f\"Jaccard Coefficient (Jack, Mary): {jack_mary}\")\n",
        "print(f\"Jaccard Coefficient (Jack, Jim): {jack_jim}\")\n",
        "print(f\"Jaccard Coefficient (Jim, Mary): {jim_mary}\")\n"
      ]
    },
    {
      "cell_type": "code",
      "source": [
        "#Attempt No 2, simplified\n",
        "\n",
        "# Test data\n",
        "data = {\n",
        "    \"Jack\": [\"P\", \"N\", \"N\", \"A\"],\n",
        "    \"Mary\": [\"P\", \"A\", \"P\", \"N\"],\n",
        "    \"Jim\": [\"N\", \"N\", \"N\", \"A\"]\n",
        "}\n",
        "\n",
        "def jaccard_coefficient(person1, person2):\n",
        "    \"\"\"\n",
        "    Calculating the Jaccard Coefficient between two individuals based on their test results.\n",
        "    \"\"\"\n",
        "    # Filter for 'P' (Positive) and 'A' (Abnormal)\n",
        "    set1 = {result for result in person1 if result in {\"P\", \"A\"}}\n",
        "    set2 = {result for result in person2 if result in {\"P\", \"A\"}}\n",
        "\n",
        "    # Calculate Jaccard coefficient\n",
        "    intersection = len(set1 & set2)\n",
        "    union = len(set1 | set2)\n",
        "    return intersection / union if union else 0.0\n",
        "\n",
        "# Calculate Jaccard coefficients for the pairs\n",
        "pairs = [(\"Jack\", \"Mary\"), (\"Jack\", \"Jim\"), (\"Jim\", \"Mary\")]\n",
        "results = {pair: jaccard_coefficient(data[pair[0]], data[pair[1]]) for pair in pairs}\n",
        "\n",
        "# Print results\n",
        "for pair, coefficient in results.items():\n",
        "    print(f\"Jaccard Coefficient {pair}: {coefficient}\")\n"
      ],
      "metadata": {
        "colab": {
          "base_uri": "https://localhost:8080/"
        },
        "id": "zmue2cOQ8xs1",
        "outputId": "5bed736f-bdcf-4009-ea9e-beae81c2328a"
      },
      "execution_count": null,
      "outputs": [
        {
          "output_type": "stream",
          "name": "stdout",
          "text": [
            "Jaccard Coefficient ('Jack', 'Mary'): 1.0\n",
            "Jaccard Coefficient ('Jack', 'Jim'): 0.5\n",
            "Jaccard Coefficient ('Jim', 'Mary'): 0.5\n"
          ]
        }
      ]
    },
    {
      "cell_type": "code",
      "source": [
        "# prompt: Check my results for this Jaccard Coefficient calculation\n",
        "\n",
        "#Attempt Jaccard Coefficient Task\n",
        "\n",
        "# Data for the individuals\n",
        "data = {\n",
        "    \"Jack\": {\"Test-1\": \"P\", \"Test-2\": \"N\", \"Test-3\": \"N\", \"Test-4\": \"A\"},\n",
        "    \"Mary\": {\"Test-1\": \"P\", \"Test-2\": \"A\", \"Test-3\": \"P\", \"Test-4\": \"N\"},\n",
        "    \"Jim\": {\"Test-1\": \"N\", \"Test-2\": \"N\", \"Test-3\": \"N\", \"Test-4\": \"A\"}\n",
        "}\n",
        "\n",
        "def extract_test_results(person):\n",
        "    \"\"\"\n",
        "    'P' (Positive) and 'A' (Abnormal) are considered.\n",
        "    \"\"\"\n",
        "    return {result for result in person.values() if result in {\"P\", \"A\"}}\n",
        "\n",
        "def jaccard_coefficient(set1, set2):\n",
        "    \"\"\"\n",
        "    Calculate the Jaccard Coefficient between two sets.\n",
        "\n",
        "    Args:\n",
        "        set1 (set): First set of elements.\n",
        "        set2 (set): Second set of elements.\n",
        "\n",
        "    Returns:\n",
        "        float: Jaccard Coefficient.\n",
        "    \"\"\"\n",
        "    intersection = len(set1.intersection(set2))\n",
        "    union = len(set1.union(set2))\n",
        "    return intersection / union if union != 0 else 0.0\n",
        "\n",
        "# Extract test results for individuals\n",
        "jack_results = extract_test_results(data[\"Jack\"])\n",
        "mary_results = extract_test_results(data[\"Mary\"])\n",
        "jim_results = extract_test_results(data[\"Jim\"])\n",
        "\n",
        "# Calculate Jaccard coefficients for the pairs\n",
        "jack_mary = jaccard_coefficient(jack_results, mary_results)\n",
        "jack_jim = jaccard_coefficient(jack_results, jim_results)\n",
        "jim_mary = jaccard_coefficient(jim_results, mary_results)\n",
        "\n",
        "# Print results\n",
        "print(f\"Jaccard Coefficient (Jack, Mary): {jack_mary}\")\n",
        "print(f\"Jaccard Coefficient (Jack, Jim): {jack_jim}\")\n",
        "print(f\"Jaccard Coefficient (Jim, Mary): {jim_mary}\")\n",
        "\n",
        "#Attempt No 2, simplified\n",
        "\n",
        "# Test data\n",
        "data = {\n",
        "    \"Jack\": [\"P\", \"N\", \"N\", \"A\"],\n",
        "    \"Mary\": [\"P\", \"A\", \"P\", \"N\"],\n",
        "    \"Jim\": [\"N\", \"N\", \"N\", \"A\"]\n",
        "}\n",
        "\n",
        "def jaccard_coefficient(person1, person2):\n",
        "    \"\"\"\n",
        "    Calculating the Jaccard Coefficient between two individuals based on their test results.\n",
        "    \"\"\"\n",
        "    # Filter for 'P' (Positive) and 'A' (Abnormal)\n",
        "    set1 = {result for result in person1 if result in {\"P\", \"A\"}}\n",
        "    set2 = {result for result in person2 if result in {\"P\", \"A\"}}\n",
        "\n",
        "    # Calculate Jaccard coefficient\n",
        "    intersection = len(set1 & set2)\n",
        "    union = len(set1 | set2)\n",
        "    return intersection / union if union else 0.0\n",
        "\n",
        "# Calculate Jaccard coefficients for the pairs\n",
        "pairs = [(\"Jack\", \"Mary\"), (\"Jack\", \"Jim\"), (\"Jim\", \"Mary\")]\n",
        "results = {pair: jaccard_coefficient(data[pair[0]], data[pair[1]]) for pair in pairs}\n",
        "\n",
        "# Print results\n",
        "for pair, coefficient in results.items():\n",
        "    print(f\"Jaccard Coefficient {pair}: {coefficient}\")"
      ],
      "metadata": {
        "colab": {
          "base_uri": "https://localhost:8080/"
        },
        "id": "xmYUkNeq9A9u",
        "outputId": "3b58e039-234b-43c7-acd4-b3bac32b84ae"
      },
      "execution_count": null,
      "outputs": [
        {
          "output_type": "stream",
          "name": "stdout",
          "text": [
            "Jaccard Coefficient (Jack, Mary): 1.0\n",
            "Jaccard Coefficient (Jack, Jim): 0.5\n",
            "Jaccard Coefficient (Jim, Mary): 0.5\n",
            "Jaccard Coefficient ('Jack', 'Mary'): 1.0\n",
            "Jaccard Coefficient ('Jack', 'Jim'): 0.5\n",
            "Jaccard Coefficient ('Jim', 'Mary'): 0.5\n"
          ]
        }
      ]
    },
    {
      "cell_type": "markdown",
      "source": [
        "Two variatons of code were tested, the check by Gen AI Assistant confirmed the results. But checking the hint from the tutor, I took the wrong approach.\n",
        "\n"
      ],
      "metadata": {
        "id": "IGLlr6rD9V6a"
      }
    },
    {
      "cell_type": "code",
      "source": [
        "# Original data\n",
        "data = {\n",
        "    \"Jack\": [\"M\", \"Y\", \"N\", \"P\", \"N\", \"N\", \"A\"],\n",
        "    \"Mary\": [\"F\", \"Y\", \"N\", \"P\", \"A\", \"P\", \"N\"],\n",
        "    \"Jim\": [\"M\", \"Y\", \"P\", \"N\", \"N\", \"N\", \"A\"]\n",
        "}\n",
        "\n",
        "def convert_to_binary(attributes):\n",
        "    \"\"\"\n",
        "    Convert asymmetric variables to binary values:\n",
        "    Y & P -> 1\n",
        "    N & A -> 0\n",
        "    \"\"\"\n",
        "    return [1 if val in {\"Y\", \"P\"} else 0 for val in attributes[1:]]  # Exclude Gender\n",
        "\n",
        "def jaccard_binary(vec1, vec2):\n",
        "    \"\"\"\n",
        "    Calculate the Jaccard Coefficient for two binary vectors.\n",
        "    \"\"\"\n",
        "    f11 = sum(1 for x, y in zip(vec1, vec2) if x == 1 and y == 1)\n",
        "    f01 = sum(1 for x, y in zip(vec1, vec2) if x == 0 and y == 1)\n",
        "    f10 = sum(1 for x, y in zip(vec1, vec2) if x == 1 and y == 0)\n",
        "\n",
        "    return f11 / (f11 + f01 + f10) if (f11 + f01 + f10) > 0 else 0.0\n",
        "\n",
        "# Convert individuals' data to binary (excluding Gender)\n",
        "jack_binary = convert_to_binary(data[\"Jack\"])\n",
        "mary_binary = convert_to_binary(data[\"Mary\"])\n",
        "jim_binary = convert_to_binary(data[\"Jim\"])\n",
        "\n",
        "# Calculate Jaccard Coefficients for pairs\n",
        "jack_mary = jaccard_binary(jack_binary, mary_binary)\n",
        "jack_jim = jaccard_binary(jack_binary, jim_binary)\n",
        "jim_mary = jaccard_binary(jim_binary, mary_binary)\n",
        "\n",
        "# Print results\n",
        "print(f\"Jaccard Coefficient (Jack, Mary): {jack_mary:.2f}\")\n",
        "print(f\"Jaccard Coefficient (Jack, Jim): {jack_jim:.2f}\")\n",
        "print(f\"Jaccard Coefficient (Jim, Mary): {jim_mary:.2f}\")\n"
      ],
      "metadata": {
        "colab": {
          "base_uri": "https://localhost:8080/"
        },
        "id": "oHm60ojXQp6-",
        "outputId": "8a6ccade-dc80-4576-d551-63eb83bc4d58"
      },
      "execution_count": 4,
      "outputs": [
        {
          "output_type": "stream",
          "name": "stdout",
          "text": [
            "Jaccard Coefficient (Jack, Mary): 0.67\n",
            "Jaccard Coefficient (Jack, Jim): 0.33\n",
            "Jaccard Coefficient (Jim, Mary): 0.25\n"
          ]
        }
      ]
    }
  ]
}